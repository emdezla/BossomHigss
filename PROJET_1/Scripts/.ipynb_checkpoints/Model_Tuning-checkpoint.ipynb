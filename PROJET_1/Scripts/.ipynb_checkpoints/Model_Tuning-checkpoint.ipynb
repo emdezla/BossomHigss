{
 "cells": [
  {
   "cell_type": "markdown",
   "metadata": {},
   "source": [
    "# Python notebook used to tune the model for the Higgs Boson Challenge"
   ]
  },
  {
   "cell_type": "markdown",
   "metadata": {},
   "source": [
    "#### EPFL - Machine Learning - Autumn 2019"
   ]
  },
  {
   "cell_type": "markdown",
   "metadata": {},
   "source": [
    "## 1) Header"
   ]
  },
  {
   "cell_type": "code",
   "execution_count": 1,
   "metadata": {},
   "outputs": [],
   "source": [
    "%matplotlib inline\n",
    "import numpy as np\n",
    "import matplotlib.pyplot as plt\n",
    "\n",
    "from proj1_helpers import *\n",
    "from implementations import *\n",
    "from helpers import *\n",
    "\n",
    "%load_ext autoreload\n",
    "%autoreload 2"
   ]
  },
  {
   "cell_type": "markdown",
   "metadata": {},
   "source": [
    "#### Randomisation"
   ]
  },
  {
   "cell_type": "code",
   "execution_count": 2,
   "metadata": {},
   "outputs": [],
   "source": [
    "seed=374534\n",
    "np.random.seed(seed)"
   ]
  },
  {
   "cell_type": "markdown",
   "metadata": {},
   "source": [
    "## 2) Data loading"
   ]
  },
  {
   "cell_type": "code",
   "execution_count": 3,
   "metadata": {},
   "outputs": [
    {
     "name": "stdout",
     "output_type": "stream",
     "text": [
      "tx_0_train: (99913, 18)\n",
      "tx_1_train: (77544, 22)\n",
      "tx_2_train: (50379, 29)\n",
      "tx_3_train: (22164, 29)\n"
     ]
    }
   ],
   "source": [
    "DATA_TRAIN_PATH = '../Data/train.csv' \n",
    "tx_0_train, tx_1_train, tx_2_train, tx_3_train = data_processing(DATA_TRAIN_PATH);\n",
    "\n",
    "#DATA_TEST_PATH = '../Data/test.csv' \n",
    "#tx_0_test, tx_1_test, tx_2_test, tx_3_test = data_processing(DATA_TEST_PATH);"
   ]
  },
  {
   "cell_type": "markdown",
   "metadata": {},
   "source": [
    "## 3) Functions needed to perform the model tuning"
   ]
  },
  {
   "cell_type": "markdown",
   "metadata": {},
   "source": [
    "Skip to part 4) for the actual model tuning"
   ]
  },
  {
   "cell_type": "code",
   "execution_count": 6,
   "metadata": {},
   "outputs": [],
   "source": [
    "def build_k_indices(y, k_fold, seed):\n",
    "    \"\"\"build k indices for k-fold cross-validation.\"\"\"\n",
    "    num_row = y.shape[0]\n",
    "    interval = int(num_row / k_fold)\n",
    "    np.random.seed(seed)\n",
    "    indices = np.random.permutation(num_row)\n",
    "    k_indices = [indices[k * interval: (k + 1) * interval] for k in range(k_fold)]\n",
    "    return np.array(k_indices)\n",
    "\n",
    "def cross_validation(y, x, k_indices, k, lambda_, degrees, method, initial_w, max_iters, gamma):\n",
    "    \"\"\"return the accuracy of given method.\"\"\"\n",
    "    y_test=y[k_indices[k,:]]\n",
    "    x_test=x[k_indices[k,:]]   \n",
    "    y_train=np.delete(y,k)\n",
    "    x_train=np.delete(x,k,0)\n",
    "    \n",
    "    y_pred_train, y_pred_test = prediction(x_train, y_train, x_test, degrees,lambda_, method, initial_w, max_iters, gamma)\n",
    "    \n",
    "    accuracy_train, F1_train = check_accuracy(y_pred_train, y_train)\n",
    "    accuracy_test, F1_test = check_accuracy(y_pred_test, y_test)\n",
    "    return accuracy_train, accuracy_test, F1_train, F1_test\n",
    "\n",
    "def cross_validation_visualization(lambdas, acc_tr, acc_te, f1_tr, f1_te):\n",
    "    \"\"\"visualization of the accuracy and the f1 score for the train data and the test data.\"\"\"\n",
    "    fig = plt.figure()\n",
    "    fig.set_size_inches(12,4)\n",
    "    ax_acc = fig.add_subplot(1, 2, 1)\n",
    "    ax_f1 = fig.add_subplot(1, 2, 2)\n",
    "    \n",
    "    ax_acc.set_xlabel('lambda')\n",
    "    ax_acc.set_ylabel('accuracy')\n",
    "    ax_acc.semilogx(lambdas, acc_tr, marker=\".\", color='b', label='train accuracy')\n",
    "    ax_acc.semilogx(lambdas, acc_te, marker=\".\", color='r', label='test accuracy')\n",
    "    ax_acc.set_title('Accuracy')           \n",
    "    ax_acc.grid(True)\n",
    "    ax_acc.legend(loc=2)\n",
    "    \n",
    "    ax_f1.set_xlabel('lambda')\n",
    "    ax_f1.set_ylabel('f1 score')\n",
    "    ax_f1.semilogx(lambdas, f1_tr, marker=\".\", color='b', label='train f1 score')\n",
    "    ax_f1.semilogx(lambdas, f1_te, marker=\".\", color='r', label='test f1 score')\n",
    "    ax_f1.set_title('F1 score')           \n",
    "    ax_f1.grid(True)\n",
    "    ax_f1.legend(loc=2)\n",
    "    \n",
    "    fig.savefig('cross_validation')\n",
    "\n",
    "\n",
    "def cross_validation_demo(y, x, k_fold, lambdas, degrees,seed=1, method=\"RLR\", initial_w=None,\n",
    "               max_iters=10000, gamma=1e-10):\n",
    "    \"\"\"to do\"\"\"\n",
    "    k_indices = build_k_indices(y, k_fold,seed)\n",
    "    acc_tr = []\n",
    "    acc_te = []\n",
    "    f1_tr = []\n",
    "    f1_te = []\n",
    "    for lambda_ in lambdas:\n",
    "        acc_tr_lambda=0;\n",
    "        acc_te_lambda=0;\n",
    "        f1_tr_lambda=0;\n",
    "        f1_te_lambda=0;\n",
    "        for k in range(k_fold):\n",
    "            accuracy_train, accuracy_test, f1_train, f1_test = cross_validation(y, x, k_indices, k, lambda_, degrees, method, initial_w, max_iters, gamma)\n",
    "            \n",
    "            acc_tr_lambda += accuracy_train/k_fold\n",
    "            acc_te_lambda += accuracy_test/k_fold\n",
    "            f1_tr_lambda += f1_train/k_fold\n",
    "            f1_te_lambda += f1_test/k_fold\n",
    "            \n",
    "        acc_tr.append(acc_tr_lambda)\n",
    "        acc_te.append(acc_te_lambda)\n",
    "        f1_tr.append(f1_tr_lambda)\n",
    "        f1_te.append(f1_te_lambda)\n",
    "       \n",
    "    cross_validation_visualization(lambdas, acc_tr, acc_te, f1_tr, f1_te)\n",
    "\n"
   ]
  },
  {
   "cell_type": "markdown",
   "metadata": {},
   "source": [
    "## 4) Model tuning"
   ]
  },
  {
   "cell_type": "code",
   "execution_count": 8,
   "metadata": {
    "scrolled": false
   },
   "outputs": [
    {
     "name": "stdout",
     "output_type": "stream",
     "text": [
      "Lambda=1e-15:\n",
      " The train data accuracy of the model is 0.8181636327265454 \n",
      "The train data f1 score of the model is 0.7066795740561471 \n",
      "Lambda=1e-15:\n",
      " The train data accuracy of the model is 0.8169633926785357 \n",
      "The train data f1 score of the model is 0.7049338922928087 \n",
      "Lambda=1e-15:\n",
      " The train data accuracy of the model is 0.8177635527105421 \n",
      "The train data f1 score of the model is 0.706413148565904 \n",
      "Lambda=1e-15:\n",
      " The train data accuracy of the model is 0.8169633926785357 \n",
      "The train data f1 score of the model is 0.7047434656340756 \n",
      "Lambda=1e-14:\n",
      " The train data accuracy of the model is 0.8181636327265454 \n",
      "The train data f1 score of the model is 0.7066795740561471 \n",
      "Lambda=1e-14:\n",
      " The train data accuracy of the model is 0.8169633926785357 \n",
      "The train data f1 score of the model is 0.7049338922928087 \n",
      "Lambda=1e-14:\n",
      " The train data accuracy of the model is 0.8177635527105421 \n",
      "The train data f1 score of the model is 0.706413148565904 \n",
      "Lambda=1e-14:\n",
      " The train data accuracy of the model is 0.8169633926785357 \n",
      "The train data f1 score of the model is 0.7047434656340756 \n",
      "Lambda=1e-13:\n",
      " The train data accuracy of the model is 0.8181636327265454 \n",
      "The train data f1 score of the model is 0.7066795740561471 \n",
      "Lambda=1e-13:\n",
      " The train data accuracy of the model is 0.8169633926785357 \n",
      "The train data f1 score of the model is 0.7049338922928087 \n",
      "Lambda=1e-13:\n",
      " The train data accuracy of the model is 0.8177635527105421 \n",
      "The train data f1 score of the model is 0.706413148565904 \n",
      "Lambda=1e-13:\n",
      " The train data accuracy of the model is 0.8169633926785357 \n",
      "The train data f1 score of the model is 0.7047434656340756 \n",
      "Lambda=1e-12:\n",
      " The train data accuracy of the model is 0.8181636327265454 \n",
      "The train data f1 score of the model is 0.7066795740561471 \n",
      "Lambda=1e-12:\n",
      " The train data accuracy of the model is 0.8169633926785357 \n",
      "The train data f1 score of the model is 0.7049338922928087 \n",
      "Lambda=1e-12:\n",
      " The train data accuracy of the model is 0.8177635527105421 \n",
      "The train data f1 score of the model is 0.706413148565904 \n",
      "Lambda=1e-12:\n",
      " The train data accuracy of the model is 0.8169633926785357 \n",
      "The train data f1 score of the model is 0.7047434656340756 \n",
      "Lambda=1e-11:\n",
      " The train data accuracy of the model is 0.8173634726945389 \n",
      "The train data f1 score of the model is 0.7053888351080995 \n",
      "Lambda=1e-11:\n",
      " The train data accuracy of the model is 0.8169633926785357 \n",
      "The train data f1 score of the model is 0.7049338922928087 \n",
      "Lambda=1e-11:\n",
      " The train data accuracy of the model is 0.8175635127025405 \n",
      "The train data f1 score of the model is 0.7059961315280464 \n",
      "Lambda=1e-11:\n",
      " The train data accuracy of the model is 0.8167633526705341 \n",
      "The train data f1 score of the model is 0.7043253712072305 \n",
      "Lambda=1e-9:\n",
      " The train data accuracy of the model is 0.8175635127025405 \n",
      "The train data f1 score of the model is 0.7056165267914785 \n",
      "Lambda=1e-9:\n",
      " The train data accuracy of the model is 0.8167633526705341 \n",
      "The train data f1 score of the model is 0.7043253712072305 \n",
      "Lambda=1e-9:\n",
      " The train data accuracy of the model is 0.8173634726945389 \n",
      "The train data f1 score of the model is 0.7053888351080994 \n",
      "Lambda=1e-9:\n",
      " The train data accuracy of the model is 0.8165633126625325 \n",
      "The train data f1 score of the model is 0.7039070067807555 \n",
      "Lambda=1e-8:\n",
      " The train data accuracy of the model is 0.8181636327265454 \n",
      "The train data f1 score of the model is 0.7063004846526656 \n",
      "Lambda=1e-8:\n",
      " The train data accuracy of the model is 0.8183636727345469 \n",
      "The train data f1 score of the model is 0.70671834625323 \n",
      "Lambda=1e-8:\n",
      " The train data accuracy of the model is 0.8179635927185437 \n",
      "The train data f1 score of the model is 0.7060723514211887 \n",
      "Lambda=1e-8:\n",
      " The train data accuracy of the model is 0.8183636727345469 \n",
      "The train data f1 score of the model is 0.7065287653522947 \n",
      "Lambda=1e-7:\n",
      " The train data accuracy of the model is 0.8181636327265454 \n",
      "The train data f1 score of the model is 0.7066795740561471 \n",
      "Lambda=1e-7:\n",
      " The train data accuracy of the model is 0.8181636327265454 \n",
      "The train data f1 score of the model is 0.7066795740561471 \n",
      "Lambda=1e-7:\n",
      " The train data accuracy of the model is 0.8183636727345469 \n",
      "The train data f1 score of the model is 0.7070967741935483 \n",
      "Lambda=1e-7:\n",
      " The train data accuracy of the model is 0.8185637127425485 \n",
      "The train data f1 score of the model is 0.7073249435301711 \n",
      "Lambda=1e-6:\n",
      " The train data accuracy of the model is 0.8171634326865373 \n",
      "The train data f1 score of the model is 0.7053513862024501 \n",
      "Lambda=1e-6:\n",
      " The train data accuracy of the model is 0.8167633526705341 \n",
      "The train data f1 score of the model is 0.7045161290322581 \n",
      "Lambda=1e-6:\n",
      " The train data accuracy of the model is 0.8171634326865373 \n",
      "The train data f1 score of the model is 0.70535138620245 \n",
      "Lambda=1e-6:\n",
      " The train data accuracy of the model is 0.8175635127025405 \n",
      "The train data f1 score of the model is 0.7058064516129032 \n",
      "Lambda=1e-5:\n",
      " The train data accuracy of the model is 0.8169633926785357 \n",
      "The train data f1 score of the model is 0.7051240734772801 \n",
      "Lambda=1e-5:\n",
      " The train data accuracy of the model is 0.8163632726545309 \n",
      "The train data f1 score of the model is 0.7042525773195876 \n",
      "Lambda=1e-5:\n",
      " The train data accuracy of the model is 0.8169633926785357 \n",
      "The train data f1 score of the model is 0.70512407347728 \n",
      "Lambda=1e-5:\n",
      " The train data accuracy of the model is 0.8169633926785357 \n",
      "The train data f1 score of the model is 0.7047434656340756 \n",
      "Lambda=1e-15:\n",
      " The train data accuracy of the model is 0.8319663932786557 \n",
      "The train data f1 score of the model is 0.7324840764331211 \n",
      "Lambda=1e-15:\n",
      " The train data accuracy of the model is 0.8311662332466493 \n",
      "The train data f1 score of the model is 0.7317228226319136 \n",
      "Lambda=1e-15:\n",
      " The train data accuracy of the model is 0.831366273254651 \n",
      "The train data f1 score of the model is 0.7321258341277406 \n",
      "Lambda=1e-15:\n",
      " The train data accuracy of the model is 0.8311662332466493 \n",
      "The train data f1 score of the model is 0.7315521628498728 \n",
      "Lambda=1e-14:\n",
      " The train data accuracy of the model is 0.8319663932786557 \n",
      "The train data f1 score of the model is 0.7324840764331211 \n",
      "Lambda=1e-14:\n",
      " The train data accuracy of the model is 0.8311662332466493 \n",
      "The train data f1 score of the model is 0.7317228226319136 \n",
      "Lambda=1e-14:\n",
      " The train data accuracy of the model is 0.831366273254651 \n",
      "The train data f1 score of the model is 0.7321258341277406 \n",
      "Lambda=1e-14:\n",
      " The train data accuracy of the model is 0.8311662332466493 \n",
      "The train data f1 score of the model is 0.7315521628498728 \n",
      "Lambda=1e-13:\n",
      " The train data accuracy of the model is 0.8317663532706542 \n",
      "The train data f1 score of the model is 0.7320802803440586 \n",
      "Lambda=1e-13:\n",
      " The train data accuracy of the model is 0.8311662332466493 \n",
      "The train data f1 score of the model is 0.7315521628498727 \n",
      "Lambda=1e-13:\n",
      " The train data accuracy of the model is 0.8315663132626525 \n",
      "The train data f1 score of the model is 0.7321882951653944 \n",
      "Lambda=1e-13:\n",
      " The train data accuracy of the model is 0.8315663132626525 \n",
      "The train data f1 score of the model is 0.7320178230426481 \n",
      "Lambda=1e-12:\n",
      " The train data accuracy of the model is 0.8321664332866573 \n",
      "The train data f1 score of the model is 0.7330575882914413 \n",
      "Lambda=1e-12:\n",
      " The train data accuracy of the model is 0.8315663132626525 \n",
      "The train data f1 score of the model is 0.7321882951653944 \n",
      "Lambda=1e-12:\n",
      " The train data accuracy of the model is 0.8315663132626525 \n",
      "The train data f1 score of the model is 0.7320178230426481 \n",
      "Lambda=1e-12:\n",
      " The train data accuracy of the model is 0.8315663132626525 \n",
      "The train data f1 score of the model is 0.7318471337579617 \n",
      "Lambda=1e-11:\n",
      " The train data accuracy of the model is 0.831366273254651 \n",
      "The train data f1 score of the model is 0.7317849188673241 \n",
      "Lambda=1e-11:\n",
      " The train data accuracy of the model is 0.8321664332866573 \n",
      "The train data f1 score of the model is 0.7332273449920509 \n",
      "Lambda=1e-11:\n",
      " The train data accuracy of the model is 0.8319663932786557 \n",
      "The train data f1 score of the model is 0.7329942784488238 \n",
      "Lambda=1e-11:\n",
      " The train data accuracy of the model is 0.8319663932786557 \n",
      "The train data f1 score of the model is 0.7326543602800764 \n",
      "Lambda=1e-9:\n",
      " The train data accuracy of the model is 0.8319663932786557 \n",
      "The train data f1 score of the model is 0.7326543602800764 \n"
     ]
    },
    {
     "name": "stdout",
     "output_type": "stream",
     "text": [
      "Lambda=1e-9:\n",
      " The train data accuracy of the model is 0.8321664332866573 \n",
      "The train data f1 score of the model is 0.7332273449920509 \n",
      "Lambda=1e-9:\n",
      " The train data accuracy of the model is 0.8319663932786557 \n",
      "The train data f1 score of the model is 0.7329942784488238 \n",
      "Lambda=1e-9:\n",
      " The train data accuracy of the model is 0.8319663932786557 \n",
      "The train data f1 score of the model is 0.7326543602800764 \n",
      "Lambda=1e-8:\n",
      " The train data accuracy of the model is 0.8319663932786557 \n",
      "The train data f1 score of the model is 0.7326543602800764 \n",
      "Lambda=1e-8:\n",
      " The train data accuracy of the model is 0.8319663932786557 \n",
      "The train data f1 score of the model is 0.732824427480916 \n",
      "Lambda=1e-8:\n",
      " The train data accuracy of the model is 0.8317663532706542 \n",
      "The train data f1 score of the model is 0.7324212535793827 \n",
      "Lambda=1e-8:\n",
      " The train data accuracy of the model is 0.8319663932786557 \n",
      "The train data f1 score of the model is 0.7324840764331211 \n",
      "Lambda=1e-7:\n",
      " The train data accuracy of the model is 0.8295659131826365 \n",
      "The train data f1 score of the model is 0.7296954314720813 \n",
      "Lambda=1e-7:\n",
      " The train data accuracy of the model is 0.829365873174635 \n",
      "The train data f1 score of the model is 0.729635499207607 \n",
      "Lambda=1e-7:\n",
      " The train data accuracy of the model is 0.8297659531906382 \n",
      "The train data f1 score of the model is 0.7302694136291601 \n",
      "Lambda=1e-7:\n",
      " The train data accuracy of the model is 0.8299659931986397 \n",
      "The train data f1 score of the model is 0.7303299492385787 \n",
      "Lambda=1e-6:\n",
      " The train data accuracy of the model is 0.8285657131426285 \n",
      "The train data f1 score of the model is 0.7276771528439785 \n",
      "Lambda=1e-6:\n",
      " The train data accuracy of the model is 0.8289657931586317 \n",
      "The train data f1 score of the model is 0.728485233407431 \n",
      "Lambda=1e-6:\n",
      " The train data accuracy of the model is 0.8287657531506302 \n",
      "The train data f1 score of the model is 0.7280813214739518 \n",
      "Lambda=1e-6:\n",
      " The train data accuracy of the model is 0.8289657931586317 \n",
      "The train data f1 score of the model is 0.7283126787416587 \n",
      "Lambda=1e-5:\n",
      " The train data accuracy of the model is 0.8289657931586317 \n",
      "The train data f1 score of the model is 0.727966910594973 \n",
      "Lambda=1e-5:\n",
      " The train data accuracy of the model is 0.8289657931586317 \n",
      "The train data f1 score of the model is 0.7281399046104928 \n",
      "Lambda=1e-5:\n",
      " The train data accuracy of the model is 0.8289657931586317 \n",
      "The train data f1 score of the model is 0.7281399046104928 \n",
      "Lambda=1e-5:\n",
      " The train data accuracy of the model is 0.8285657131426285 \n",
      "The train data f1 score of the model is 0.7273305758829146 \n",
      "Lambda=1e-15:\n",
      " The train data accuracy of the model is 0.5843168633726745 \n",
      "The train data f1 score of the model is 0.45658995815899583 \n",
      "Lambda=1e-15:\n",
      " The train data accuracy of the model is 0.6907381476295259 \n",
      "The train data f1 score of the model is 0.5659741718135879 \n",
      "Lambda=1e-15:\n",
      " The train data accuracy of the model is 0.8285657131426285 \n",
      "The train data f1 score of the model is 0.7304183705567789 \n",
      "Lambda=1e-15:\n",
      " The train data accuracy of the model is 0.8257651530306062 \n",
      "The train data f1 score of the model is 0.7221690590111643 \n",
      "Lambda=1e-14:\n",
      " The train data accuracy of the model is 0.4928985797159432 \n",
      "The train data f1 score of the model is 0.3827611395178963 \n",
      "Lambda=1e-14:\n",
      " The train data accuracy of the model is 0.7809561912382477 \n",
      "The train data f1 score of the model is 0.6623496762257169 \n",
      "Lambda=1e-14:\n",
      " The train data accuracy of the model is 0.5379075815163032 \n",
      "The train data f1 score of the model is 0.43271119842829076 \n",
      "Lambda=1e-14:\n",
      " The train data accuracy of the model is 0.8255651130226045 \n",
      "The train data f1 score of the model is 0.7206918641896221 \n",
      "Lambda=1e-13:\n",
      " The train data accuracy of the model is 0.8133626725345069 \n",
      "The train data f1 score of the model is 0.7103384042222912 \n",
      "Lambda=1e-13:\n",
      " The train data accuracy of the model is 0.6973394678935787 \n",
      "The train data f1 score of the model is 0.5641025641025641 \n",
      "Lambda=1e-13:\n",
      " The train data accuracy of the model is 0.7031406281256252 \n",
      "The train data f1 score of the model is 0.5831460674157305 \n",
      "Lambda=1e-13:\n",
      " The train data accuracy of the model is 0.8257651530306062 \n",
      "The train data f1 score of the model is 0.7211015049631763 \n",
      "Lambda=1e-12:\n",
      " The train data accuracy of the model is 0.8281656331266253 \n",
      "The train data f1 score of the model is 0.7261715014344915 \n",
      "Lambda=1e-12:\n",
      " The train data accuracy of the model is 0.6521304260852171 \n",
      "The train data f1 score of the model is 0.5157337788916737 \n",
      "Lambda=1e-12:\n",
      " The train data accuracy of the model is 0.8225645129025805 \n",
      "The train data f1 score of the model is 0.7206299212598425 \n",
      "Lambda=1e-12:\n",
      " The train data accuracy of the model is 0.7699539907981596 \n",
      "The train data f1 score of the model is 0.6546546546546547 \n",
      "Lambda=1e-11:\n",
      " The train data accuracy of the model is 0.8167633526705341 \n",
      "The train data f1 score of the model is 0.7137499999999999 \n",
      "Lambda=1e-11:\n",
      " The train data accuracy of the model is 0.8097619523904781 \n",
      "The train data f1 score of the model is 0.6981910504601714 \n",
      "Lambda=1e-11:\n",
      " The train data accuracy of the model is 0.8213642728545709 \n",
      "The train data f1 score of the model is 0.7199749137660708 \n",
      "Lambda=1e-11:\n",
      " The train data accuracy of the model is 0.8285657131426285 \n",
      "The train data f1 score of the model is 0.7276771528439785 \n",
      "Lambda=1e-9:\n",
      " The train data accuracy of the model is 0.7759551910382076 \n",
      "The train data f1 score of the model is 0.6555965559655595 \n",
      "Lambda=1e-9:\n",
      " The train data accuracy of the model is 0.7483496699339868 \n",
      "The train data f1 score of the model is 0.621312462372065 \n",
      "Lambda=1e-9:\n",
      " The train data accuracy of the model is 0.8249649929985997 \n",
      "The train data f1 score of the model is 0.7235387045813586 \n",
      "Lambda=1e-9:\n",
      " The train data accuracy of the model is 0.8251650330066013 \n",
      "The train data f1 score of the model is 0.7235926628716003 \n",
      "Lambda=1e-8:\n",
      " The train data accuracy of the model is 0.8297659531906382 \n",
      "The train data f1 score of the model is 0.7261023495333118 \n",
      "Lambda=1e-8:\n",
      " The train data accuracy of the model is 0.831366273254651 \n",
      "The train data f1 score of the model is 0.7286771805600257 \n",
      "Lambda=1e-8:\n",
      " The train data accuracy of the model is 0.8309661932386477 \n",
      "The train data f1 score of the model is 0.7336905137094232 \n",
      "Lambda=1e-8:\n",
      " The train data accuracy of the model is 0.6745349069813963 \n",
      "The train data f1 score of the model is 0.544895104895105 \n",
      "Lambda=1e-7:\n",
      " The train data accuracy of the model is 0.8273654730946189 \n",
      "The train data f1 score of the model is 0.7225972356155578 \n",
      "Lambda=1e-7:\n",
      " The train data accuracy of the model is 0.8291658331666333 \n",
      "The train data f1 score of the model is 0.7259306803594351 \n",
      "Lambda=1e-7:\n",
      " The train data accuracy of the model is 0.8311662332466493 \n",
      "The train data f1 score of the model is 0.7327422419252692 \n",
      "Lambda=1e-7:\n",
      " The train data accuracy of the model is 0.834366873374675 \n",
      "The train data f1 score of the model is 0.7358008934269304 \n",
      "Lambda=1e-6:\n",
      " The train data accuracy of the model is 0.8285657131426285 \n",
      "The train data f1 score of the model is 0.7248796147672553 \n",
      "Lambda=1e-6:\n",
      " The train data accuracy of the model is 0.8265653130626125 \n",
      "The train data f1 score of the model is 0.7209526874798841 \n",
      "Lambda=1e-6:\n",
      " The train data accuracy of the model is 0.8259651930386077 \n",
      "The train data f1 score of the model is 0.7257250945775536 \n",
      "Lambda=1e-6:\n",
      " The train data accuracy of the model is 0.8309661932386477 \n",
      "The train data f1 score of the model is 0.7302904564315353 \n",
      "Lambda=1e-5:\n",
      " The train data accuracy of the model is 0.8267653530706142 \n",
      "The train data f1 score of the model is 0.7226137091607944 \n",
      "Lambda=1e-5:\n",
      " The train data accuracy of the model is 0.8251650330066013 \n",
      "The train data f1 score of the model is 0.7189710610932477 \n",
      "Lambda=1e-5:\n",
      " The train data accuracy of the model is 0.829365873174635 \n",
      "The train data f1 score of the model is 0.7308299147996214 \n",
      "Lambda=1e-5:\n",
      " The train data accuracy of the model is 0.8315663132626525 \n",
      "The train data f1 score of the model is 0.7308184143222506 \n"
     ]
    },
    {
     "data": {
      "image/png": "[encoded data removed]",
      "text/plain": [
       "<Figure size 864x288 with 2 Axes>"
      ]
     },
     "metadata": {
      "needs_background": "light"
     },
     "output_type": "display_data"
    },
    {
     "data": {
      "image/png": "[encoded data removed]",
      "text/plain": [
       "<Figure size 864x288 with 2 Axes>"
      ]
     },
     "metadata": {
      "needs_background": "light"
     },
     "output_type": "display_data"
    },
    {
     "data": {
      "image/png": "[encoded data removed]",
      "text/plain": [
       "<Figure size 864x288 with 2 Axes>"
      ]
     },
     "metadata": {
      "needs_background": "light"
     },
     "output_type": "display_data"
    }
   ],
   "source": [
    "#degrees = [5,6,7,8,9,10]\n",
    "degrees = [6,8,10]\n",
    "k_fold = 4\n",
    "lambdas = np.logspace(-15, -5, 10)\n",
    "for degree in degrees:\n",
    "    print(\"\\n###############################################################\\nDegree : \", degree)\n",
    "    cross_validation_demo(y_train, x_train, k_fold, lambdas, degree, seed=154, method=\"RR\", initial_w=None, max_iters=20000, gamma=1e-40)"
   ]
  },
  {
   "cell_type": "code",
   "execution_count": null,
   "metadata": {},
   "outputs": [],
   "source": []
  },
  {
   "cell_type": "markdown",
   "metadata": {},
   "source": [
    "## 6) Prediction of the test data labels"
   ]
  },
  {
   "cell_type": "code",
   "execution_count": 20,
   "metadata": {},
   "outputs": [
    {
     "name": "stdout",
     "output_type": "stream",
     "text": [
      "Lambda=1e-10:\n",
      " The train data accuracy of the model is 0.810656 \n",
      "The train data f1 score of the model is 0.7066362577158581 \n"
     ]
    }
   ],
   "source": [
    "degree=8\n",
    "minusloglambda=10\n",
    "lambda_=10**(-minusloglambda)\n",
    "\n",
    "y_tr_pd, y_te_pd = prediction(x_train, y_train, x_test, degree,lambda_,\"RR\",initial_w=None,\n",
    "               max_iters=10000, gamma=1e-1)\n",
    "name=\"submission_{0}_{1}.csv\".format(degree,minusloglambda)\n",
    "create_csv_submission(ids_test, y_te_pd, name)"
   ]
  },
  {
   "cell_type": "code",
   "execution_count": null,
   "metadata": {},
   "outputs": [],
   "source": []
  },
  {
   "cell_type": "markdown",
   "metadata": {},
   "source": [
    "## 7) Test of each Method from implementations.py"
   ]
  },
  {
   "cell_type": "code",
   "execution_count": 44,
   "metadata": {},
   "outputs": [],
   "source": [
    "# Using x_train and y_train as data\n",
    "\n",
    "# Parameters\n",
    "\n",
    "from helpers import *\n",
    "\n",
    "degree = 3\n",
    "tx_train = build_poly(x_train,degree)\n",
    "initial_w = np.zeros(tx_train.shape[1])\n",
    "max_iters = 1000\n",
    "gamma = 1e-30\n",
    "lambda_ = 1e-3\n",
    "\n",
    "\n",
    "#least_squares_GD(y_train, tx_train, initial_w, max_iters, gamma)\n",
    "#least_squares_SGD(y_train, tx_train, initial_w, max_iters, gamma)\n",
    "#least_squares(y_train, tx_train)\n",
    "#ridge_regression(y_train, tx_train, lambda_)\n",
    "#logistic_regression(y_train, tx_train, initial_w, max_iters, gamma)\n",
    "#reg_logistic_regression(y_train, tx_train, lambda_, initial_w, max_iters, gamma)\n"
   ]
  },
  {
   "cell_type": "markdown",
   "metadata": {},
   "source": [
    "## 8) Principal Component Analysis"
   ]
  },
  {
   "cell_type": "code",
   "execution_count": 121,
   "metadata": {},
   "outputs": [],
   "source": [
    "# Performing assembly and eigenvalue decomposition of covariance matrix step by step\n",
    "\n",
    "def standardize(tx):\n",
    "    tx_means = np.mean(tx, axis=0)\n",
    "    tx_pca = np.copy(tx)\n",
    "    \n",
    "    d = tx.shape[1]\n",
    "    n = tx.shape[0]\n",
    "    \n",
    "    for i in range(d):\n",
    "        tx_pca[:,i] = 1/np.sqrt(n-1)*(tx_pca[:,i] - tx_means[i]*np.ones([n]))\n",
    "    return tx_pca\n",
    "tx_pca = standardize(x_train)\n",
    "Cc = tx_pca.T@tx_pca\n",
    "eigc, Pc = np.linalg.eig(Cc)\n",
    "Dc = np.diag(eigc)"
   ]
  },
  {
   "cell_type": "code",
   "execution_count": 200,
   "metadata": {},
   "outputs": [
    {
     "name": "stdout",
     "output_type": "stream",
     "text": [
      "[1.99745997e+06 4.69495400e+05 1.64713566e+05 3.46645379e+04\n",
      " 1.94660070e+04 2.24176514e+03 1.85633056e+03 1.26910588e+03\n",
      " 8.75888764e+02 4.94256307e+02 3.37970395e+02 3.73872355e+02\n",
      " 1.80165009e+02 1.33455902e+02 4.61683273e+01 4.00372438e+00\n",
      " 3.50132736e+00 2.75151029e+00 2.41971030e+00 1.65921609e+00\n",
      " 1.43527408e+00 1.02450098e+00 7.22270371e-01 7.09129484e-01\n",
      " 6.02506001e-01 1.85023000e-01 1.01766708e-01 5.84005525e-02\n",
      " 2.66538929e-02 7.60342251e-08]\n"
     ]
    }
   ],
   "source": [
    "# Using numpy library to compute eigenvalue decomposition of covariance matrix\n",
    "\n",
    "C = np.cov(x_train.T)\n",
    "eigs, P = np.linalg.eig(C)\n",
    "D = np.diag(eigs)\n",
    "print(eigs)"
   ]
  },
  {
   "cell_type": "code",
   "execution_count": 201,
   "metadata": {},
   "outputs": [
    {
     "data": {
      "text/plain": [
       "([<matplotlib.axis.XTick at 0x1439d27b8>,\n",
       "  <matplotlib.axis.XTick at 0x1439d20f0>,\n",
       "  <matplotlib.axis.XTick at 0x11eaee7b8>,\n",
       "  <matplotlib.axis.XTick at 0x1439c62b0>,\n",
       "  <matplotlib.axis.XTick at 0x1439c6710>,\n",
       "  <matplotlib.axis.XTick at 0x1439c6be0>,\n",
       "  <matplotlib.axis.XTick at 0x1439c8160>,\n",
       "  <matplotlib.axis.XTick at 0x1439c85c0>,\n",
       "  <matplotlib.axis.XTick at 0x1439c8a90>,\n",
       "  <matplotlib.axis.XTick at 0x1439c8f60>,\n",
       "  <matplotlib.axis.XTick at 0x14ee53470>,\n",
       "  <matplotlib.axis.XTick at 0x14ee53940>,\n",
       "  <matplotlib.axis.XTick at 0x1439c8710>,\n",
       "  <matplotlib.axis.XTick at 0x1439c6588>,\n",
       "  <matplotlib.axis.XTick at 0x14ee532e8>,\n",
       "  <matplotlib.axis.XTick at 0x14ee5e160>,\n",
       "  <matplotlib.axis.XTick at 0x14ee5e5c0>,\n",
       "  <matplotlib.axis.XTick at 0x14ee5ea90>,\n",
       "  <matplotlib.axis.XTick at 0x14ee5ef60>,\n",
       "  <matplotlib.axis.XTick at 0x14ee25470>,\n",
       "  <matplotlib.axis.XTick at 0x14ee25940>,\n",
       "  <matplotlib.axis.XTick at 0x14ee25e10>,\n",
       "  <matplotlib.axis.XTick at 0x14ee252e8>,\n",
       "  <matplotlib.axis.XTick at 0x14ee5ea58>,\n",
       "  <matplotlib.axis.XTick at 0x14ee331d0>,\n",
       "  <matplotlib.axis.XTick at 0x14ee33630>,\n",
       "  <matplotlib.axis.XTick at 0x14ee33b00>,\n",
       "  <matplotlib.axis.XTick at 0x14ee33d30>,\n",
       "  <matplotlib.axis.XTick at 0x14ee3b4e0>],\n",
       " <a list of 29 Text xticklabel objects>)"
      ]
     },
     "execution_count": 201,
     "metadata": {},
     "output_type": "execute_result"
    },
    {
     "data": {
      "image/png": "[encoded data removed]",
      "text/plain": [
       "<Figure size 576x432 with 1 Axes>"
      ]
     },
     "metadata": {
      "needs_background": "light"
     },
     "output_type": "display_data"
    }
   ],
   "source": [
    "plt.figure(figsize=(8,6))\n",
    "plt.bar(np.arange(1,31,1),eigs/sum(eigs)*100,align='center',width=0.4)\n",
    "plt.ylabel('Variance (%)')\n",
    "plt.title('Information Retention')\n",
    "plt.xticks(np.arange(1,30,1)) "
   ]
  },
  {
   "cell_type": "code",
   "execution_count": 202,
   "metadata": {},
   "outputs": [
    {
     "name": "stdout",
     "output_type": "stream",
     "text": [
      "99.70938152385665\n",
      "5\n"
     ]
    }
   ],
   "source": [
    "i = 0\n",
    "S = 0\n",
    "while S<99:\n",
    "    S += eigs[i]/sum(eigs)*100\n",
    "    i += 1\n",
    "print(S)\n",
    "print(i)"
   ]
  },
  {
   "cell_type": "code",
   "execution_count": 218,
   "metadata": {},
   "outputs": [],
   "source": [
    "X = x_train@P[:,0:15]"
   ]
  },
  {
   "cell_type": "code",
   "execution_count": 219,
   "metadata": {},
   "outputs": [
    {
     "name": "stdout",
     "output_type": "stream",
     "text": [
      "(5000, 15)\n"
     ]
    }
   ],
   "source": []
  },
  {
   "cell_type": "code",
   "execution_count": 188,
   "metadata": {},
   "outputs": [
    {
     "ename": "ModuleNotFoundError",
     "evalue": "No module named 'logistic_regression.py'; 'logistic_regression' is not a package",
     "output_type": "error",
     "traceback": [
      "\u001b[0;31m---------------------------------------------------------------------------\u001b[0m",
      "\u001b[0;31mModuleNotFoundError\u001b[0m                       Traceback (most recent call last)",
      "\u001b[0;32m<ipython-input-188-7aa92ca2c027>\u001b[0m in \u001b[0;36m<module>\u001b[0;34m\u001b[0m\n\u001b[0;32m----> 1\u001b[0;31m \u001b[0;32mfrom\u001b[0m \u001b[0mlogistic_regression\u001b[0m\u001b[0;34m.\u001b[0m\u001b[0mpy\u001b[0m \u001b[0;32mimport\u001b[0m \u001b[0;34m*\u001b[0m\u001b[0;34m\u001b[0m\u001b[0;34m\u001b[0m\u001b[0m\n\u001b[0m\u001b[1;32m      2\u001b[0m \u001b[0;34m\u001b[0m\u001b[0m\n\u001b[1;32m      3\u001b[0m \u001b[0mlogistic_implementation\u001b[0m\u001b[0;34m(\u001b[0m\u001b[0my_train\u001b[0m\u001b[0;34m,\u001b[0m \u001b[0mX\u001b[0m\u001b[0;34m,\u001b[0m \u001b[0;36m7\u001b[0m\u001b[0;34m,\u001b[0m \u001b[0;36m0.8\u001b[0m\u001b[0;34m,\u001b[0m \u001b[0;36m34\u001b[0m\u001b[0;34m,\u001b[0m \u001b[0;36m100000\u001b[0m\u001b[0;34m,\u001b[0m \u001b[0;36m1e-30\u001b[0m\u001b[0;34m,\u001b[0m\u001b[0mNewton\u001b[0m\u001b[0;34m=\u001b[0m\u001b[0;32mFalse\u001b[0m\u001b[0;34m)\u001b[0m\u001b[0;34m\u001b[0m\u001b[0;34m\u001b[0m\u001b[0m\n",
      "\u001b[0;31mModuleNotFoundError\u001b[0m: No module named 'logistic_regression.py'; 'logistic_regression' is not a package"
     ]
    }
   ],
   "source": []
  },
  {
   "cell_type": "code",
   "execution_count": null,
   "metadata": {},
   "outputs": [],
   "source": []
  }
 ],
 "metadata": {
  "kernelspec": {
   "display_name": "Python 3",
   "language": "python",
   "name": "python3"
  },
  "language_info": {
   "codemirror_mode": {
    "name": "ipython",
    "version": 3
   },
   "file_extension": ".py",
   "mimetype": "text/x-python",
   "name": "python",
   "nbconvert_exporter": "python",
   "pygments_lexer": "ipython3",
   "version": "3.7.3"
  }
 },
 "nbformat": 4,
 "nbformat_minor": 2
}
