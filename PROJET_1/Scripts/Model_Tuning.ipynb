{
 "cells": [
  {
   "cell_type": "markdown",
   "metadata": {},
   "source": [
    "# Python notebook used to tune the model for the Higgs Boson Challenge"
   ]
  },
  {
   "cell_type": "markdown",
   "metadata": {},
   "source": [
    "#### EPFL - Machine Learning - Autumn 2019"
   ]
  },
  {
   "cell_type": "markdown",
   "metadata": {},
   "source": [
    "## 1) Header"
   ]
  },
  {
   "cell_type": "code",
   "execution_count": 1,
   "metadata": {},
   "outputs": [],
   "source": [
    "%matplotlib inline\n",
    "import numpy as np\n",
    "import matplotlib.pyplot as plt\n",
    "\n",
    "from proj1_helpers import *\n",
    "from implementations import *\n",
    "from helpers import *\n",
    "\n",
    "%load_ext autoreload\n",
    "%autoreload 2"
   ]
  },
  {
   "cell_type": "markdown",
   "metadata": {},
   "source": [
    "#### Randomisation"
   ]
  },
  {
   "cell_type": "code",
   "execution_count": 2,
   "metadata": {},
   "outputs": [],
   "source": [
    "seed=374534\n",
    "np.random.seed(seed)"
   ]
  },
  {
   "cell_type": "markdown",
   "metadata": {},
   "source": [
    "## 2) Data loading"
   ]
  },
  {
   "cell_type": "code",
   "execution_count": 3,
   "metadata": {},
   "outputs": [],
   "source": [
    "DATA_TRAIN_PATH = '../data/train.csv' # TODO: download train data and supply path here \n",
    "DATA_TEST_PATH = '../data/test.csv' # TODO: download train data and supply path here \n",
    "\n",
    "y_train_raw, x_train_raw, ids_train = load_csv_data(DATA_TRAIN_PATH,sub_sample=False)\n",
    "_, x_test_raw, ids_test = load_csv_data(DATA_TEST_PATH)"
   ]
  },
  {
   "cell_type": "code",
   "execution_count": 4,
   "metadata": {},
   "outputs": [
    {
     "name": "stdout",
     "output_type": "stream",
     "text": [
      "The dimensions of x_train are  (250000, 30)\n",
      "The dimension of y_train is  (250000,)\n",
      "The dimension of ids_train is  (250000,) \n",
      "\n",
      "The dimensions of x_test are  (568238, 30)\n",
      "The dimension of ids_test is  (568238,)\n"
     ]
    }
   ],
   "source": [
    "y_train = np.copy(y_train_raw)\n",
    "x_train = np.copy(x_train_raw)\n",
    "x_test = np.copy(x_test_raw)\n",
    "\n",
    "print(\"The dimensions of x_train are \",x_train.shape)\n",
    "print(\"The dimension of y_train is \",y_train.shape)\n",
    "print(\"The dimension of ids_train is \",ids_train.shape, \"\\n\")\n",
    "print(\"The dimensions of x_test are \",x_test.shape)\n",
    "print(\"The dimension of ids_test is \",ids_test.shape)"
   ]
  },
  {
   "cell_type": "markdown",
   "metadata": {},
   "source": [
    "## 3) Functions needed to perform the model tuning"
   ]
  },
  {
   "cell_type": "markdown",
   "metadata": {},
   "source": [
    "Skip to part 4) for the actual model tuning"
   ]
  },
  {
   "cell_type": "code",
   "execution_count": 5,
   "metadata": {},
   "outputs": [],
   "source": [
    "def build_k_indices(y, k_fold, seed):\n",
    "    \"\"\"build k indices for k-fold cross-validation.\"\"\"\n",
    "    num_row = y.shape[0]\n",
    "    interval = int(num_row / k_fold)\n",
    "    np.random.seed(seed)\n",
    "    indices = np.random.permutation(num_row)\n",
    "    k_indices = [indices[k * interval: (k + 1) * interval] for k in range(k_fold)]\n",
    "    return np.array(k_indices)\n",
    "\n",
    "def cross_validation(y, x, k_indices, k, lambda_, degrees):\n",
    "    \"\"\"return the accuracy of ridge regression.\"\"\"\n",
    "    y_test=y[k_indices[k,:]]\n",
    "    x_test=x[k_indices[k,:]]   \n",
    "    y_train=np.delete(y,k)\n",
    "    x_train=np.delete(x,k,0)\n",
    "    \n",
    "    y_pred_train, y_pred_test = prediction(x_train, y_train, x_test, degrees, lambda_)\n",
    "    accuracy_train, F1_train = check_accuracy(y_pred_train, y_train)\n",
    "    accuracy_test, F1_test = check_accuracy(y_pred_test, y_test)\n",
    "    return accuracy_train, accuracy_test, F1_train, F1_test\n",
    "\n",
    "def cross_validation_visualization(lambdas, acc_tr, acc_te, f1_tr, f1_te):\n",
    "    \"\"\"visualization of the accuracy and the f1 score for the train data and the test data.\"\"\"\n",
    "    fig = plt.figure()\n",
    "    fig.set_size_inches(12,4)\n",
    "    ax_acc = fig.add_subplot(1, 2, 1)\n",
    "    ax_f1 = fig.add_subplot(1, 2, 2)\n",
    "    \n",
    "    ax_acc.set_xlabel('lambda')\n",
    "    ax_acc.set_ylabel('accuracy')\n",
    "    ax_acc.semilogx(lambdas, acc_tr, marker=\".\", color='b', label='train accuracy')\n",
    "    ax_acc.semilogx(lambdas, acc_te, marker=\".\", color='r', label='test accuracy')\n",
    "    ax_acc.set_title('Accuracy')           \n",
    "    ax_acc.grid(True)\n",
    "    ax_acc.legend(loc=2)\n",
    "    \n",
    "    ax_f1.set_xlabel('lambda')\n",
    "    ax_f1.set_ylabel('f1 score')\n",
    "    ax_f1.semilogx(lambdas, f1_tr, marker=\".\", color='b', label='train f1 score')\n",
    "    ax_f1.semilogx(lambdas, f1_te, marker=\".\", color='r', label='test f1 score')\n",
    "    ax_f1.set_title('F1 score')           \n",
    "    ax_f1.grid(True)\n",
    "    ax_f1.legend(loc=2)\n",
    "    \n",
    "    fig.savefig('cross_validation')\n",
    "\n",
    "\n",
    "def cross_validation_demo(y, x, k_fold, lambdas, degrees,seed=1):\n",
    "    \"\"\"to do\"\"\"\n",
    "    k_indices = build_k_indices(y, k_fold,seed)\n",
    "    acc_tr = []\n",
    "    acc_te = []\n",
    "    f1_tr = []\n",
    "    f1_te = []\n",
    "    for lambda_ in lambdas:\n",
    "        acc_tr_lambda=0;\n",
    "        acc_te_lambda=0;\n",
    "        f1_tr_lambda=0;\n",
    "        f1_te_lambda=0;\n",
    "        for k in range(k_fold):\n",
    "            accuracy_train, accuracy_test, f1_train, f1_test = cross_validation(y, x, k_indices, k, lambda_, degrees)\n",
    "            \n",
    "            acc_tr_lambda += accuracy_train/k_fold\n",
    "            acc_te_lambda += accuracy_test/k_fold\n",
    "            f1_tr_lambda += f1_train/k_fold\n",
    "            f1_te_lambda += f1_test/k_fold\n",
    "            \n",
    "        acc_tr.append(acc_tr_lambda)\n",
    "        acc_te.append(acc_te_lambda)\n",
    "        f1_tr.append(f1_tr_lambda)\n",
    "        f1_te.append(f1_te_lambda)\n",
    "       \n",
    "    cross_validation_visualization(lambdas, acc_tr, acc_te, f1_tr, f1_te)\n",
    "\n"
   ]
  },
  {
   "cell_type": "markdown",
   "metadata": {},
   "source": [
    "## 4) Data preprocessing"
   ]
  },
  {
   "cell_type": "code",
   "execution_count": 51,
   "metadata": {},
   "outputs": [
    {
     "name": "stdout",
     "output_type": "stream",
     "text": [
      "The dimensions of x_train are  (68114, 30)\n",
      "The dimension of y_train is  (68114,)\n",
      "The dimension of ids_train is  (68114,) \n",
      "\n",
      "The dimensions of x_test are  (568238, 30)\n",
      "The dimension of ids_test is  (568238,)\n"
     ]
    }
   ],
   "source": [
    "y_train, x_train, ids_train = data_preprocessing(y_train, x_train, ids_train,\"discard\")\n",
    "_, x_test, ids_test = data_preprocessing(_, x_test, ids_test,\"zero\")\n",
    "\n",
    "print(\"The dimensions of x_train are \",x_train.shape)\n",
    "print(\"The dimension of y_train is \",y_train.shape)\n",
    "print(\"The dimension of ids_train is \",ids_train.shape, \"\\n\")\n",
    "print(\"The dimensions of x_test are \",x_test.shape)\n",
    "print(\"The dimension of ids_test is \",ids_test.shape)\n"
   ]
  },
  {
   "cell_type": "markdown",
   "metadata": {},
   "source": [
    "## 5) Model tuning"
   ]
  },
  {
   "cell_type": "code",
   "execution_count": 57,
   "metadata": {},
   "outputs": [
    {
     "name": "stdout",
     "output_type": "stream",
     "text": [
      "The train data accuracy of the model is  0.8006401127538062 \n",
      "The train data f1 score of the model is  0.7874595000704346\n",
      "The train data accuracy of the model is  0.8006254312686272 \n",
      "The train data f1 score of the model is  0.7874538283353157\n",
      "The train data accuracy of the model is  0.8006694757241642 \n",
      "The train data f1 score of the model is  0.7874908043638184\n",
      "The train data accuracy of the model is  0.8006694757241642 \n",
      "The train data f1 score of the model is  0.7874841517053547\n",
      "The train data accuracy of the model is  0.8006401127538062 \n",
      "The train data f1 score of the model is  0.7874595000704346\n",
      "The train data accuracy of the model is  0.8006254312686272 \n",
      "The train data f1 score of the model is  0.7874538283353157\n",
      "The train data accuracy of the model is  0.8006694757241642 \n",
      "The train data f1 score of the model is  0.7874908043638184\n",
      "The train data accuracy of the model is  0.8006694757241642 \n",
      "The train data f1 score of the model is  0.7874841517053547\n",
      "The train data accuracy of the model is  0.8006401127538062 \n",
      "The train data f1 score of the model is  0.7874595000704346\n",
      "The train data accuracy of the model is  0.8006254312686272 \n",
      "The train data f1 score of the model is  0.7874538283353157\n",
      "The train data accuracy of the model is  0.8006694757241642 \n",
      "The train data f1 score of the model is  0.7874908043638184\n",
      "The train data accuracy of the model is  0.8006694757241642 \n",
      "The train data f1 score of the model is  0.7874841517053547\n",
      "The train data accuracy of the model is  0.8006401127538062 \n",
      "The train data f1 score of the model is  0.7874595000704346\n",
      "The train data accuracy of the model is  0.8006254312686272 \n",
      "The train data f1 score of the model is  0.7874538283353157\n",
      "The train data accuracy of the model is  0.8006694757241642 \n",
      "The train data f1 score of the model is  0.7874908043638184\n",
      "The train data accuracy of the model is  0.8006694757241642 \n",
      "The train data f1 score of the model is  0.7874841517053547\n",
      "The train data accuracy of the model is  0.8006401127538062 \n",
      "The train data f1 score of the model is  0.7874595000704346\n",
      "The train data accuracy of the model is  0.8006254312686272 \n",
      "The train data f1 score of the model is  0.7874538283353157\n",
      "The train data accuracy of the model is  0.8006694757241642 \n",
      "The train data f1 score of the model is  0.7874908043638184\n",
      "The train data accuracy of the model is  0.8006694757241642 \n",
      "The train data f1 score of the model is  0.7874841517053547\n",
      "The train data accuracy of the model is  0.8006547942389852 \n",
      "The train data f1 score of the model is  0.7874784786351542\n",
      "The train data accuracy of the model is  0.8006254312686272 \n",
      "The train data f1 score of the model is  0.7874538283353157\n",
      "The train data accuracy of the model is  0.8006401127538062 \n",
      "The train data f1 score of the model is  0.7874528464319814\n",
      "The train data accuracy of the model is  0.8006694757241642 \n",
      "The train data f1 score of the model is  0.7874841517053547\n",
      "The train data accuracy of the model is  0.8006254312686272 \n",
      "The train data f1 score of the model is  0.7874471748317421\n",
      "The train data accuracy of the model is  0.800610749783448 \n",
      "The train data f1 score of the model is  0.7874348499788703\n",
      "The train data accuracy of the model is  0.8006401127538062 \n",
      "The train data f1 score of the model is  0.7874595000704346\n",
      "The train data accuracy of the model is  0.8006694757241642 \n",
      "The train data f1 score of the model is  0.7874908043638185\n",
      "The train data accuracy of the model is  0.80058138681309 \n",
      "The train data f1 score of the model is  0.787363609323878\n",
      "The train data accuracy of the model is  0.8005520238427319 \n",
      "The train data f1 score of the model is  0.7873589306118616\n",
      "The train data accuracy of the model is  0.8005520238427319 \n",
      "The train data f1 score of the model is  0.7873456162046241\n",
      "The train data accuracy of the model is  0.800596068298269 \n",
      "The train data f1 score of the model is  0.7874025608114453\n"
     ]
    },
    {
     "ename": "KeyboardInterrupt",
     "evalue": "",
     "output_type": "error",
     "traceback": [
      "\u001b[0;31m---------------------------------------------------------------------------\u001b[0m",
      "\u001b[0;31mKeyboardInterrupt\u001b[0m                         Traceback (most recent call last)",
      "\u001b[0;32m<ipython-input-57-ebe07a8d1664>\u001b[0m in \u001b[0;36m<module>\u001b[0;34m\u001b[0m\n\u001b[1;32m      4\u001b[0m \u001b[0;34m\u001b[0m\u001b[0m\n\u001b[1;32m      5\u001b[0m \u001b[0;32mfor\u001b[0m \u001b[0mdegree\u001b[0m \u001b[0;32min\u001b[0m \u001b[0mdegrees\u001b[0m\u001b[0;34m:\u001b[0m\u001b[0;34m\u001b[0m\u001b[0;34m\u001b[0m\u001b[0m\n\u001b[0;32m----> 6\u001b[0;31m     \u001b[0mcross_validation_demo\u001b[0m\u001b[0;34m(\u001b[0m\u001b[0my_train\u001b[0m\u001b[0;34m,\u001b[0m \u001b[0mx_train\u001b[0m\u001b[0;34m,\u001b[0m \u001b[0mk_fold\u001b[0m\u001b[0;34m,\u001b[0m \u001b[0mlambdas\u001b[0m\u001b[0;34m,\u001b[0m \u001b[0mdegree\u001b[0m\u001b[0;34m,\u001b[0m \u001b[0;36m657\u001b[0m\u001b[0;34m)\u001b[0m\u001b[0;34m\u001b[0m\u001b[0;34m\u001b[0m\u001b[0m\n\u001b[0m",
      "\u001b[0;32m<ipython-input-50-94c279396628>\u001b[0m in \u001b[0;36mcross_validation_demo\u001b[0;34m(y, x, k_fold, lambdas, degrees, seed)\u001b[0m\n\u001b[1;32m     72\u001b[0m         \u001b[0mf1_te_lambda\u001b[0m\u001b[0;34m=\u001b[0m\u001b[0;36m0\u001b[0m\u001b[0;34m;\u001b[0m\u001b[0;34m\u001b[0m\u001b[0;34m\u001b[0m\u001b[0m\n\u001b[1;32m     73\u001b[0m         \u001b[0;32mfor\u001b[0m \u001b[0mk\u001b[0m \u001b[0;32min\u001b[0m \u001b[0mrange\u001b[0m\u001b[0;34m(\u001b[0m\u001b[0mk_fold\u001b[0m\u001b[0;34m)\u001b[0m\u001b[0;34m:\u001b[0m\u001b[0;34m\u001b[0m\u001b[0;34m\u001b[0m\u001b[0m\n\u001b[0;32m---> 74\u001b[0;31m             \u001b[0maccuracy_train\u001b[0m\u001b[0;34m,\u001b[0m \u001b[0maccuracy_test\u001b[0m\u001b[0;34m,\u001b[0m \u001b[0mf1_train\u001b[0m\u001b[0;34m,\u001b[0m \u001b[0mf1_test\u001b[0m \u001b[0;34m=\u001b[0m \u001b[0mcross_validation\u001b[0m\u001b[0;34m(\u001b[0m\u001b[0my\u001b[0m\u001b[0;34m,\u001b[0m \u001b[0mx\u001b[0m\u001b[0;34m,\u001b[0m \u001b[0mk_indices\u001b[0m\u001b[0;34m,\u001b[0m \u001b[0mk\u001b[0m\u001b[0;34m,\u001b[0m \u001b[0mlambda_\u001b[0m\u001b[0;34m,\u001b[0m \u001b[0mdegrees\u001b[0m\u001b[0;34m)\u001b[0m\u001b[0;34m\u001b[0m\u001b[0;34m\u001b[0m\u001b[0m\n\u001b[0m\u001b[1;32m     75\u001b[0m \u001b[0;34m\u001b[0m\u001b[0m\n\u001b[1;32m     76\u001b[0m             \u001b[0macc_tr_lambda\u001b[0m \u001b[0;34m+=\u001b[0m \u001b[0maccuracy_train\u001b[0m\u001b[0;34m/\u001b[0m\u001b[0mk_fold\u001b[0m\u001b[0;34m\u001b[0m\u001b[0;34m\u001b[0m\u001b[0m\n",
      "\u001b[0;32m<ipython-input-50-94c279396628>\u001b[0m in \u001b[0;36mcross_validation\u001b[0;34m(y, x, k_indices, k, lambda_, degrees)\u001b[0m\n\u001b[1;32m     28\u001b[0m     \u001b[0mx_train\u001b[0m\u001b[0;34m=\u001b[0m\u001b[0mnp\u001b[0m\u001b[0;34m.\u001b[0m\u001b[0mdelete\u001b[0m\u001b[0;34m(\u001b[0m\u001b[0mx\u001b[0m\u001b[0;34m,\u001b[0m\u001b[0mk\u001b[0m\u001b[0;34m,\u001b[0m\u001b[0;36m0\u001b[0m\u001b[0;34m)\u001b[0m\u001b[0;34m\u001b[0m\u001b[0;34m\u001b[0m\u001b[0m\n\u001b[1;32m     29\u001b[0m \u001b[0;34m\u001b[0m\u001b[0m\n\u001b[0;32m---> 30\u001b[0;31m     \u001b[0my_pred_train\u001b[0m\u001b[0;34m,\u001b[0m \u001b[0my_pred_test\u001b[0m \u001b[0;34m=\u001b[0m \u001b[0mprediction\u001b[0m\u001b[0;34m(\u001b[0m\u001b[0mx_train\u001b[0m\u001b[0;34m,\u001b[0m \u001b[0my_train\u001b[0m\u001b[0;34m,\u001b[0m \u001b[0mx_test\u001b[0m\u001b[0;34m,\u001b[0m \u001b[0mdegrees\u001b[0m\u001b[0;34m,\u001b[0m \u001b[0mlambda_\u001b[0m\u001b[0;34m)\u001b[0m\u001b[0;34m\u001b[0m\u001b[0;34m\u001b[0m\u001b[0m\n\u001b[0m\u001b[1;32m     31\u001b[0m     \u001b[0maccuracy_train\u001b[0m\u001b[0;34m,\u001b[0m \u001b[0mF1_train\u001b[0m \u001b[0;34m=\u001b[0m \u001b[0mcheck_accuracy\u001b[0m\u001b[0;34m(\u001b[0m\u001b[0my_pred_train\u001b[0m\u001b[0;34m,\u001b[0m \u001b[0my_train\u001b[0m\u001b[0;34m)\u001b[0m\u001b[0;34m\u001b[0m\u001b[0;34m\u001b[0m\u001b[0m\n\u001b[1;32m     32\u001b[0m     \u001b[0maccuracy_test\u001b[0m\u001b[0;34m,\u001b[0m \u001b[0mF1_test\u001b[0m \u001b[0;34m=\u001b[0m \u001b[0mcheck_accuracy\u001b[0m\u001b[0;34m(\u001b[0m\u001b[0my_pred_test\u001b[0m\u001b[0;34m,\u001b[0m \u001b[0my_test\u001b[0m\u001b[0;34m)\u001b[0m\u001b[0;34m\u001b[0m\u001b[0;34m\u001b[0m\u001b[0m\n",
      "\u001b[0;32m~/Library/Mobile Documents/com~apple~CloudDocs/Documents/Master/Ma1/ML/Project1/Final/proj1_helpers.py\u001b[0m in \u001b[0;36mprediction\u001b[0;34m(x_train, y_train, x_test, degrees, lambda_)\u001b[0m\n\u001b[1;32m    115\u001b[0m     \u001b[0mN_te\u001b[0m\u001b[0;34m=\u001b[0m\u001b[0mx_test\u001b[0m\u001b[0;34m.\u001b[0m\u001b[0mshape\u001b[0m\u001b[0;34m[\u001b[0m\u001b[0;36m0\u001b[0m\u001b[0;34m]\u001b[0m\u001b[0;34m\u001b[0m\u001b[0;34m\u001b[0m\u001b[0m\n\u001b[1;32m    116\u001b[0m     \u001b[0my_test_predicted\u001b[0m\u001b[0;34m=\u001b[0m\u001b[0mnp\u001b[0m\u001b[0;34m.\u001b[0m\u001b[0mzeros\u001b[0m\u001b[0;34m(\u001b[0m\u001b[0mN_te\u001b[0m\u001b[0;34m)\u001b[0m\u001b[0;34m\u001b[0m\u001b[0;34m\u001b[0m\u001b[0m\n\u001b[0;32m--> 117\u001b[0;31m     \u001b[0mphi_train\u001b[0m \u001b[0;34m=\u001b[0m \u001b[0mbuild_poly\u001b[0m\u001b[0;34m(\u001b[0m\u001b[0mx_train\u001b[0m\u001b[0;34m,\u001b[0m \u001b[0mdegrees\u001b[0m\u001b[0;34m)\u001b[0m\u001b[0;34m\u001b[0m\u001b[0;34m\u001b[0m\u001b[0m\n\u001b[0m\u001b[1;32m    118\u001b[0m     \u001b[0mphi_test\u001b[0m \u001b[0;34m=\u001b[0m \u001b[0mbuild_poly\u001b[0m\u001b[0;34m(\u001b[0m\u001b[0mx_test\u001b[0m\u001b[0;34m,\u001b[0m \u001b[0mdegrees\u001b[0m\u001b[0;34m)\u001b[0m\u001b[0;34m\u001b[0m\u001b[0;34m\u001b[0m\u001b[0m\n\u001b[1;32m    119\u001b[0m \u001b[0;34m\u001b[0m\u001b[0m\n",
      "\u001b[0;32m~/Library/Mobile Documents/com~apple~CloudDocs/Documents/Master/Ma1/ML/Project1/Final/proj1_helpers.py\u001b[0m in \u001b[0;36mbuild_poly\u001b[0;34m(x, degrees, constant_feature)\u001b[0m\n\u001b[1;32m     90\u001b[0m     \u001b[0;32mfor\u001b[0m \u001b[0mind_feat\u001b[0m\u001b[0;34m,\u001b[0m \u001b[0mdegree\u001b[0m \u001b[0;32min\u001b[0m \u001b[0menumerate\u001b[0m\u001b[0;34m(\u001b[0m\u001b[0mdegrees\u001b[0m\u001b[0;34m)\u001b[0m\u001b[0;34m:\u001b[0m\u001b[0;34m\u001b[0m\u001b[0;34m\u001b[0m\u001b[0m\n\u001b[1;32m     91\u001b[0m         \u001b[0;32mfor\u001b[0m \u001b[0mi\u001b[0m \u001b[0;32min\u001b[0m \u001b[0mrange\u001b[0m\u001b[0;34m(\u001b[0m\u001b[0mdegree\u001b[0m\u001b[0;34m)\u001b[0m\u001b[0;34m:\u001b[0m\u001b[0;34m\u001b[0m\u001b[0;34m\u001b[0m\u001b[0m\n\u001b[0;32m---> 92\u001b[0;31m             \u001b[0mphi\u001b[0m\u001b[0;34m=\u001b[0m\u001b[0mnp\u001b[0m\u001b[0;34m.\u001b[0m\u001b[0mc_\u001b[0m\u001b[0;34m[\u001b[0m\u001b[0mphi\u001b[0m\u001b[0;34m,\u001b[0m\u001b[0mx\u001b[0m\u001b[0;34m[\u001b[0m\u001b[0;34m:\u001b[0m\u001b[0;34m,\u001b[0m\u001b[0mind_feat\u001b[0m\u001b[0;34m]\u001b[0m\u001b[0;34m**\u001b[0m\u001b[0;34m(\u001b[0m\u001b[0mi\u001b[0m\u001b[0;34m+\u001b[0m\u001b[0;36m1\u001b[0m\u001b[0;34m)\u001b[0m\u001b[0;34m]\u001b[0m\u001b[0;34m\u001b[0m\u001b[0;34m\u001b[0m\u001b[0m\n\u001b[0m\u001b[1;32m     93\u001b[0m     \u001b[0;32mif\u001b[0m \u001b[0;34m(\u001b[0m\u001b[0mconstant_feature\u001b[0m\u001b[0;34m==\u001b[0m\u001b[0;32mFalse\u001b[0m\u001b[0;34m)\u001b[0m\u001b[0;34m:\u001b[0m\u001b[0;34m\u001b[0m\u001b[0;34m\u001b[0m\u001b[0m\n\u001b[1;32m     94\u001b[0m         \u001b[0mphi\u001b[0m\u001b[0;34m=\u001b[0m\u001b[0mnp\u001b[0m\u001b[0;34m.\u001b[0m\u001b[0mdelete\u001b[0m\u001b[0;34m(\u001b[0m\u001b[0mphi\u001b[0m\u001b[0;34m,\u001b[0m \u001b[0;36m0\u001b[0m\u001b[0;34m,\u001b[0m \u001b[0;36m1\u001b[0m\u001b[0;34m)\u001b[0m\u001b[0;34m\u001b[0m\u001b[0;34m\u001b[0m\u001b[0m\n",
      "\u001b[0;31mKeyboardInterrupt\u001b[0m: "
     ]
    }
   ],
   "source": [
    "degrees = [5,6,7,8,9,10]\n",
    "k_fold = 4\n",
    "lambdas = np.logspace(-15, 0, 15)\n",
    "\n",
    "for degree in degrees:\n",
    "    cross_validation_demo(y_train, x_train, k_fold, lambdas, degree, 657)"
   ]
  },
  {
   "cell_type": "code",
   "execution_count": null,
   "metadata": {},
   "outputs": [],
   "source": []
  },
  {
   "cell_type": "markdown",
   "metadata": {},
   "source": [
    "## 6) Prediction of the test data labels"
   ]
  },
  {
   "cell_type": "code",
   "execution_count": 53,
   "metadata": {},
   "outputs": [],
   "source": [
    "degree=9\n",
    "minusloglambda=2\n",
    "lambda_=10**(-loglambda)\n",
    "y_tr_pd, y_te_pd = prediction(x_train, y_train, x_test, degree, lambda_)\n",
    "name=\"submission_{0}_{1}.csv\".format(degree,minusloglambda)\n",
    "create_csv_submission(ids_test, y_te_pd, name)"
   ]
  },
  {
   "cell_type": "code",
   "execution_count": 54,
   "metadata": {},
   "outputs": [
    {
     "name": "stdout",
     "output_type": "stream",
     "text": [
      "The train data accuracy of the model is  0.8246322341956133 \n",
      "The train data f1 score of the model is  0.8158142260188426\n"
     ]
    }
   ],
   "source": []
  },
  {
   "cell_type": "code",
   "execution_count": null,
   "metadata": {},
   "outputs": [],
   "source": []
  }
 ],
 "metadata": {
  "kernelspec": {
   "display_name": "Python 3",
   "language": "python",
   "name": "python3"
  },
  "language_info": {
   "codemirror_mode": {
    "name": "ipython",
    "version": 3
   },
   "file_extension": ".py",
   "mimetype": "text/x-python",
   "name": "python",
   "nbconvert_exporter": "python",
   "pygments_lexer": "ipython3",
   "version": "3.7.3"
  }
 },
 "nbformat": 4,
 "nbformat_minor": 2
}
