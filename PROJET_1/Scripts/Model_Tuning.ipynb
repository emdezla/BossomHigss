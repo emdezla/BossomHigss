{
 "cells": [
  {
   "cell_type": "markdown",
   "metadata": {},
   "source": [
    "# Python notebook used to tune the model for the Higgs Boson Challenge"
   ]
  },
  {
   "cell_type": "markdown",
   "metadata": {},
   "source": [
    "#### EPFL - Machine Learning - Autumn 2019"
   ]
  },
  {
   "cell_type": "markdown",
   "metadata": {},
   "source": [
    "## 1) Header"
   ]
  },
  {
   "cell_type": "code",
   "execution_count": 2,
   "metadata": {},
   "outputs": [],
   "source": [
    "%matplotlib inline\n",
    "import numpy as np\n",
    "import matplotlib.pyplot as plt\n",
    "\n",
    "from proj1_helpers import *\n",
    "from implementations import *\n",
    "from helpers import *\n",
    "\n",
    "%load_ext autoreload\n",
    "%autoreload 2"
   ]
  },
  {
   "cell_type": "markdown",
   "metadata": {},
   "source": [
    "#### Randomisation"
   ]
  },
  {
   "cell_type": "code",
   "execution_count": 3,
   "metadata": {},
   "outputs": [],
   "source": [
    "seed=374534\n",
    "np.random.seed(seed)"
   ]
  },
  {
   "cell_type": "markdown",
   "metadata": {},
   "source": [
    "## 2) Data loading"
   ]
  },
  {
   "cell_type": "code",
   "execution_count": 45,
   "metadata": {},
   "outputs": [],
   "source": [
    "#PATHS\n",
    "\n",
    "DATA_TRAIN_PATH = '../Data/train.csv'\n",
    "DATA_TEST_PATH = 'test.csv' \n"
   ]
  },
  {
   "cell_type": "code",
   "execution_count": 47,
   "metadata": {},
   "outputs": [],
   "source": [
    "#LOADING\n",
    "y_train, tx_train, ids_train = load_csv_data(DATA_TRAIN_PATH,sub_sample=False)\n",
    "\n",
    "#y_test, tx_test, ids_test = load_csv_data(DATA_TEST_PATH,sub_sample=False)"
   ]
  },
  {
   "cell_type": "markdown",
   "metadata": {},
   "source": [
    "## 3) Processing of data\n",
    "To process the data, we separated the data into four subsets. This separation was made based on the Jet number of the data point. In addition, erroneous measurements (-999) were set to the mean measurement of the feature in question or removed altogether"
   ]
  },
  {
   "cell_type": "code",
   "execution_count": 48,
   "metadata": {},
   "outputs": [
    {
     "name": "stdout",
     "output_type": "stream",
     "text": [
      "tx_0_ train :  (99913, 18)\n",
      "tx_1_ train :  (77544, 22)\n",
      "tx_2_ train :  (50379, 29)\n",
      "tx_3_ train :  (22164, 29)\n"
     ]
    }
   ],
   "source": [
    "y_jets_train, x_jets_train, jet_ids_train = data_processing(y_train,tx_train,ids_train,\"train\");\n",
    " \n",
    "#y_jets_test, x_jets_test, jet_ids_test = data_processing(y_test,tx_test,ids_test,\"test\");"
   ]
  },
  {
   "cell_type": "markdown",
   "metadata": {},
   "source": [
    "## 4) Functions needed to perform Bias-Variance Decomposition and Model Tuning"
   ]
  },
  {
   "cell_type": "code",
   "execution_count": 12,
   "metadata": {},
   "outputs": [],
   "source": [
    "def build_k_indices(y, k_fold, seed):\n",
    "    \"\"\"build k indices for k-fold cross-validation.\"\"\"\n",
    "    num_row = y.shape[0]\n",
    "    interval = int(num_row / k_fold)\n",
    "    np.random.seed(seed)\n",
    "    indices = np.random.permutation(num_row)\n",
    "    k_indices = [indices[k * interval: (k + 1) * interval] for k in range(k_fold)]\n",
    "    return np.array(k_indices)\n",
    "\n",
    "def cross_validation(y, x, k_indices, k, lambda_, degrees, method, initial_w, max_iters, gamma):\n",
    "    \"\"\"return the accuracy of given method.\"\"\"\n",
    "    y_test=y[k_indices[k,:]]\n",
    "    x_test=x[k_indices[k,:]]   \n",
    "    y_train=np.delete(y,k)\n",
    "    x_train=np.delete(x,k,0)\n",
    "    \n",
    "    y_pred_train, y_pred_test = prediction(x_train, y_train, x_test, degrees,lambda_, method, initial_w, max_iters, gamma)\n",
    "    \n",
    "    accuracy_train, F1_train = check_accuracy(y_pred_train, y_train)\n",
    "    accuracy_test, F1_test = check_accuracy(y_pred_test, y_test)\n",
    "    return accuracy_train, accuracy_test, F1_train, F1_test\n",
    "\n",
    "def cross_validation_visualization(lambdas, acc_tr, acc_te, f1_tr, f1_te):\n",
    "    \"\"\"visualization of the accuracy and the f1 score for the train data and the test data.\"\"\"\n",
    "    fig = plt.figure()\n",
    "    fig.set_size_inches(12,4)\n",
    "    ax_acc = fig.add_subplot(1, 2, 1)\n",
    "    ax_f1 = fig.add_subplot(1, 2, 2)\n",
    "    \n",
    "    ax_acc.set_xlabel('lambda')\n",
    "    ax_acc.set_ylabel('accuracy')\n",
    "    ax_acc.semilogx(lambdas, acc_tr, marker=\".\", color='b', label='train accuracy')\n",
    "    ax_acc.semilogx(lambdas, acc_te, marker=\".\", color='r', label='test accuracy')\n",
    "    ax_acc.set_title('Accuracy')           \n",
    "    ax_acc.grid(True)\n",
    "    ax_acc.legend(loc=2)\n",
    "    \n",
    "    ax_f1.set_xlabel('lambda')\n",
    "    ax_f1.set_ylabel('f1 score')\n",
    "    ax_f1.semilogx(lambdas, f1_tr, marker=\".\", color='b', label='train f1 score')\n",
    "    ax_f1.semilogx(lambdas, f1_te, marker=\".\", color='r', label='test f1 score')\n",
    "    ax_f1.set_title('F1 score')           \n",
    "    ax_f1.grid(True)\n",
    "    ax_f1.legend(loc=2)\n",
    "    \n",
    "    fig.savefig('cross_validation')\n",
    "\n",
    "\n",
    "def cross_validation_demo(y, x, k_fold, lambdas, degrees,seed=1, method=\"RLR\", initial_w=None,\n",
    "               max_iters=10000, gamma=1e-10):\n",
    "    \"\"\"to do\"\"\"\n",
    "    k_indices = build_k_indices(y, k_fold,seed)\n",
    "    acc_tr = []\n",
    "    acc_te = []\n",
    "    f1_tr = []\n",
    "    f1_te = []\n",
    "    for lambda_ in lambdas:\n",
    "        acc_tr_lambda=0;\n",
    "        acc_te_lambda=0;\n",
    "        f1_tr_lambda=0;\n",
    "        f1_te_lambda=0;\n",
    "        for k in range(k_fold):\n",
    "            accuracy_train, accuracy_test, f1_train, f1_test = cross_validation(y, x, k_indices, k, lambda_, degrees, method, initial_w, max_iters, gamma)\n",
    "            \n",
    "            acc_tr_lambda += accuracy_train/k_fold\n",
    "            acc_te_lambda += accuracy_test/k_fold\n",
    "            f1_tr_lambda += f1_train/k_fold\n",
    "            f1_te_lambda += f1_test/k_fold\n",
    "            \n",
    "        acc_tr.append(acc_tr_lambda)\n",
    "        acc_te.append(acc_te_lambda)\n",
    "        f1_tr.append(f1_tr_lambda)\n",
    "        f1_te.append(f1_te_lambda)\n",
    "       \n",
    "    cross_validation_visualization(lambdas, acc_tr, acc_te, f1_tr, f1_te)\n",
    "\n"
   ]
  },
  {
   "cell_type": "markdown",
   "metadata": {},
   "source": [
    "## 5) Test of each Method from implementations.py"
   ]
  },
  {
   "cell_type": "code",
   "execution_count": 74,
   "metadata": {},
   "outputs": [
    {
     "ename": "NameError",
     "evalue": "name 'x_train' is not defined",
     "output_type": "error",
     "traceback": [
      "\u001b[0;31m---------------------------------------------------------------------------\u001b[0m",
      "\u001b[0;31mNameError\u001b[0m                                 Traceback (most recent call last)",
      "\u001b[0;32m<ipython-input-74-522b6310b5c3>\u001b[0m in \u001b[0;36m<module>\u001b[0;34m\u001b[0m\n\u001b[1;32m      6\u001b[0m \u001b[0;34m\u001b[0m\u001b[0m\n\u001b[1;32m      7\u001b[0m \u001b[0mdegree\u001b[0m \u001b[0;34m=\u001b[0m \u001b[0;36m3\u001b[0m\u001b[0;34m\u001b[0m\u001b[0;34m\u001b[0m\u001b[0m\n\u001b[0;32m----> 8\u001b[0;31m \u001b[0mtx_train\u001b[0m \u001b[0;34m=\u001b[0m \u001b[0mbuild_poly\u001b[0m\u001b[0;34m(\u001b[0m\u001b[0mx_train\u001b[0m\u001b[0;34m,\u001b[0m\u001b[0mdegree\u001b[0m\u001b[0;34m)\u001b[0m\u001b[0;34m\u001b[0m\u001b[0;34m\u001b[0m\u001b[0m\n\u001b[0m\u001b[1;32m      9\u001b[0m \u001b[0minitial_w\u001b[0m \u001b[0;34m=\u001b[0m \u001b[0mnp\u001b[0m\u001b[0;34m.\u001b[0m\u001b[0mzeros\u001b[0m\u001b[0;34m(\u001b[0m\u001b[0mtx_train\u001b[0m\u001b[0;34m.\u001b[0m\u001b[0mshape\u001b[0m\u001b[0;34m[\u001b[0m\u001b[0;36m1\u001b[0m\u001b[0;34m]\u001b[0m\u001b[0;34m)\u001b[0m\u001b[0;34m\u001b[0m\u001b[0;34m\u001b[0m\u001b[0m\n\u001b[1;32m     10\u001b[0m \u001b[0mmax_iters\u001b[0m \u001b[0;34m=\u001b[0m \u001b[0;36m1000\u001b[0m\u001b[0;34m\u001b[0m\u001b[0;34m\u001b[0m\u001b[0m\n",
      "\u001b[0;31mNameError\u001b[0m: name 'x_train' is not defined"
     ]
    }
   ],
   "source": [
    "# Using x_train and y_train as data\n",
    "\n",
    "# Parameters\n",
    "\n",
    "from helpers import *\n",
    "\n",
    "degree = 3\n",
    "tx_tr = build_poly(tx_train,degree)\n",
    "initial_w = np.zeros(tx_tr.shape[1])\n",
    "max_iters = 1000\n",
    "gamma = 1e-30\n",
    "lambda_ = 1e-3\n",
    "\n",
    "\n",
    "#least_squares_GD(y_train, tx_train, initial_w, max_iters, gamma)\n",
    "#least_squares_SGD(y_train, tx_train, initial_w, max_iters, gamma)\n",
    "#least_squares(y_train, tx_train)\n",
    "#ridge_regression(y_train, tx_train, lambda_)\n",
    "#logistic_regression(y_train, tx_train, initial_w, max_iters, gamma)\n",
    "#reg_logistic_regression(y_train, tx_train, lambda_, initial_w, max_iters, gamma)\n"
   ]
  },
  {
   "cell_type": "markdown",
   "metadata": {},
   "source": [
    "## 6) Bias-Variance Decomposition"
   ]
  },
  {
   "cell_type": "markdown",
   "metadata": {},
   "source": [
    "## 7) Model Tuning"
   ]
  },
  {
   "cell_type": "code",
   "execution_count": 43,
   "metadata": {},
   "outputs": [
    {
     "name": "stdout",
     "output_type": "stream",
     "text": [
      "THE DEGREE IS  8\n",
      "THE JET NUMBER IS  0\n",
      "Lambda=1e-5.000:\n",
      " The train data accuracy of the model is 0.840669789414685 \n",
      "The train data f1 score of the model is 0.6503547189703266 \n",
      "Lambda=1e-5.000:\n",
      " The train data accuracy of the model is 0.8406497717991833 \n",
      "The train data f1 score of the model is 0.6502647013597521 \n",
      "Lambda=1e-4.000:\n",
      " The train data accuracy of the model is 0.8406898070301866 \n",
      "The train data f1 score of the model is 0.650490766561999 \n",
      "Lambda=1e-4.000:\n",
      " The train data accuracy of the model is 0.8405296661061734 \n",
      "The train data f1 score of the model is 0.6501087028130971 \n",
      "Lambda=1e-3.000:\n",
      " The train data accuracy of the model is 0.8399691728721275 \n",
      "The train data f1 score of the model is 0.6491716950082282 \n",
      "Lambda=1e-3.000:\n",
      " The train data accuracy of the model is 0.8399591640643767 \n",
      "The train data f1 score of the model is 0.6492651897345909 \n",
      "Lambda=1e-2.000:\n",
      " The train data accuracy of the model is 0.8395087677155897 \n",
      "The train data f1 score of the model is 0.6487481106657028 \n",
      "Lambda=1e-2.000:\n",
      " The train data accuracy of the model is 0.839488750100088 \n",
      "The train data f1 score of the model is 0.6486427272528098 \n",
      "Lambda=1e-1.000:\n",
      " The train data accuracy of the model is 0.8390283449435503 \n",
      "The train data f1 score of the model is 0.6478663543012283 \n",
      "Lambda=1e-1.000:\n",
      " The train data accuracy of the model is 0.8388682040195372 \n",
      "The train data f1 score of the model is 0.6475160379217481 \n"
     ]
    },
    {
     "data": {
      "image/png": "[encoded data removed]",
      "text/plain": [
       "<Figure size 864x288 with 2 Axes>"
      ]
     },
     "metadata": {
      "needs_background": "light"
     },
     "output_type": "display_data"
    }
   ],
   "source": [
    "# JET NUMBER 0\n",
    "\n",
    "from helpers import *\n",
    "\n",
    "lambdas = np.logspace(-5,-1,5)\n",
    "k_fold = 2\n",
    "degrees = [8]\n",
    "seed = 3495\n",
    "method = \"RR\"\n",
    "\n",
    "i=0\n",
    "for degree in degrees:\n",
    "            print(\"THE DEGREE IS \", degree)\n",
    "            print(\"THE JET NUMBER IS \",i)\n",
    "            cross_validation_demo(y_jets_train[i], x_jets_train[i], k_fold, lambdas, degree,seed, method)"
   ]
  },
  {
   "cell_type": "code",
   "execution_count": null,
   "metadata": {},
   "outputs": [],
   "source": [
    "# JET NUMBER 1\n",
    "\n",
    "from helpers import *\n",
    "\n",
    "lambdas = np.logspace(-8,-6,5)\n",
    "k_fold = 2\n",
    "degrees = [8]\n",
    "seed = 3495\n",
    "method = \"RR\"\n",
    "\n",
    "i=1\n",
    "for degree in degrees:\n",
    "            print(\"THE DEGREE IS \", degree)\n",
    "            print(\"THE JET NUMBER IS \",i)\n",
    "            cross_validation_demo(y_jets_train[i], x_jets_train[i], k_fold, lambdas, degree,seed, method)"
   ]
  },
  {
   "cell_type": "code",
   "execution_count": null,
   "metadata": {},
   "outputs": [],
   "source": [
    "# JET NUMBER 2\n",
    "\n",
    "from helpers import *\n",
    "\n",
    "lambdas = np.logspace(-13,-11,5)\n",
    "k_fold = 2\n",
    "degrees = [8]\n",
    "seed = 3495\n",
    "method = \"RR\"\n",
    "\n",
    "i=2\n",
    "for degree in degrees:\n",
    "            print(\"THE DEGREE IS \", degree)\n",
    "            print(\"THE JET NUMBER IS \",i)\n",
    "            cross_validation_demo(y_jets_train[i], x_jets_train[i], k_fold, lambdas, degree,seed, method)"
   ]
  },
  {
   "cell_type": "code",
   "execution_count": null,
   "metadata": {},
   "outputs": [],
   "source": [
    "# JET NUMBER 3\n",
    "\n",
    "from helpers import *\n",
    "\n",
    "lambdas = np.logspace(-10,-8,5)\n",
    "k_fold = 2\n",
    "degrees = [8]\n",
    "seed = 3495\n",
    "method = \"RR\"\n",
    "\n",
    "i=3\n",
    "for degree in degrees:\n",
    "            print(\"THE DEGREE IS \", degree)\n",
    "            print(\"THE JET NUMBER IS \",i)\n",
    "            cross_validation_demo(y_jets_train[i], x_jets_train[i], k_fold, lambdas, degree,seed, method)"
   ]
  },
  {
   "cell_type": "markdown",
   "metadata": {},
   "source": [
    "## 8) Prediction of Test Data"
   ]
  },
  {
   "cell_type": "code",
   "execution_count": 41,
   "metadata": {},
   "outputs": [
    {
     "name": "stdout",
     "output_type": "stream",
     "text": [
      "3.1622776601683795e-09\n"
     ]
    },
    {
     "ename": "KeyboardInterrupt",
     "evalue": "",
     "output_type": "error",
     "traceback": [
      "\u001b[0;31m---------------------------------------------------------------------------\u001b[0m",
      "\u001b[0;31mKeyboardInterrupt\u001b[0m                         Traceback (most recent call last)",
      "\u001b[0;32m<ipython-input-41-a4c344a005a1>\u001b[0m in \u001b[0;36m<module>\u001b[0;34m\u001b[0m\n\u001b[1;32m      8\u001b[0m \u001b[0;32mfor\u001b[0m \u001b[0mi\u001b[0m \u001b[0;32min\u001b[0m \u001b[0mrange\u001b[0m\u001b[0;34m(\u001b[0m\u001b[0;36m4\u001b[0m\u001b[0;34m)\u001b[0m\u001b[0;34m:\u001b[0m\u001b[0;34m\u001b[0m\u001b[0;34m\u001b[0m\u001b[0m\n\u001b[1;32m      9\u001b[0m \u001b[0;34m\u001b[0m\u001b[0m\n\u001b[0;32m---> 10\u001b[0;31m     \u001b[0mtx_train\u001b[0m \u001b[0;34m=\u001b[0m \u001b[0mbuild_poly\u001b[0m\u001b[0;34m(\u001b[0m\u001b[0mx_jets_train\u001b[0m\u001b[0;34m[\u001b[0m\u001b[0mi\u001b[0m\u001b[0;34m]\u001b[0m\u001b[0;34m,\u001b[0m\u001b[0mdegrees\u001b[0m\u001b[0;34m[\u001b[0m\u001b[0mi\u001b[0m\u001b[0;34m]\u001b[0m\u001b[0;34m)\u001b[0m\u001b[0;34m\u001b[0m\u001b[0;34m\u001b[0m\u001b[0m\n\u001b[0m\u001b[1;32m     11\u001b[0m     \u001b[0mtx_test\u001b[0m \u001b[0;34m=\u001b[0m \u001b[0mbuild_poly\u001b[0m\u001b[0;34m(\u001b[0m\u001b[0mx_jets_test\u001b[0m\u001b[0;34m[\u001b[0m\u001b[0mi\u001b[0m\u001b[0;34m]\u001b[0m\u001b[0;34m,\u001b[0m\u001b[0mdegrees\u001b[0m\u001b[0;34m[\u001b[0m\u001b[0mi\u001b[0m\u001b[0;34m]\u001b[0m\u001b[0;34m)\u001b[0m\u001b[0;34m\u001b[0m\u001b[0;34m\u001b[0m\u001b[0m\n\u001b[1;32m     12\u001b[0m \u001b[0;34m\u001b[0m\u001b[0m\n",
      "\u001b[0;32m~/projetBossomHigss/PROJET_1/Scripts/helpers.py\u001b[0m in \u001b[0;36mbuild_poly\u001b[0;34m(x, degrees, constant_feature)\u001b[0m\n\u001b[1;32m     70\u001b[0m     \u001b[0;32mfor\u001b[0m \u001b[0mind_feat\u001b[0m\u001b[0;34m,\u001b[0m \u001b[0mdegree\u001b[0m \u001b[0;32min\u001b[0m \u001b[0menumerate\u001b[0m\u001b[0;34m(\u001b[0m\u001b[0mdegrees\u001b[0m\u001b[0;34m)\u001b[0m\u001b[0;34m:\u001b[0m\u001b[0;34m\u001b[0m\u001b[0;34m\u001b[0m\u001b[0m\n\u001b[1;32m     71\u001b[0m         \u001b[0;32mfor\u001b[0m \u001b[0mi\u001b[0m \u001b[0;32min\u001b[0m \u001b[0mrange\u001b[0m\u001b[0;34m(\u001b[0m\u001b[0mdegree\u001b[0m\u001b[0;34m)\u001b[0m\u001b[0;34m:\u001b[0m\u001b[0;34m\u001b[0m\u001b[0;34m\u001b[0m\u001b[0m\n\u001b[0;32m---> 72\u001b[0;31m             \u001b[0mphi\u001b[0m\u001b[0;34m=\u001b[0m\u001b[0mnp\u001b[0m\u001b[0;34m.\u001b[0m\u001b[0mc_\u001b[0m\u001b[0;34m[\u001b[0m\u001b[0mphi\u001b[0m\u001b[0;34m,\u001b[0m\u001b[0mx\u001b[0m\u001b[0;34m[\u001b[0m\u001b[0;34m:\u001b[0m\u001b[0;34m,\u001b[0m\u001b[0mind_feat\u001b[0m\u001b[0;34m]\u001b[0m\u001b[0;34m**\u001b[0m\u001b[0;34m(\u001b[0m\u001b[0mi\u001b[0m\u001b[0;34m+\u001b[0m\u001b[0;36m1\u001b[0m\u001b[0;34m)\u001b[0m\u001b[0;34m]\u001b[0m\u001b[0;34m\u001b[0m\u001b[0;34m\u001b[0m\u001b[0m\n\u001b[0m\u001b[1;32m     73\u001b[0m     \u001b[0;32mif\u001b[0m \u001b[0;34m(\u001b[0m\u001b[0mconstant_feature\u001b[0m\u001b[0;34m==\u001b[0m\u001b[0;32mFalse\u001b[0m\u001b[0;34m)\u001b[0m\u001b[0;34m:\u001b[0m\u001b[0;34m\u001b[0m\u001b[0;34m\u001b[0m\u001b[0m\n\u001b[1;32m     74\u001b[0m         \u001b[0mphi\u001b[0m\u001b[0;34m=\u001b[0m\u001b[0mnp\u001b[0m\u001b[0;34m.\u001b[0m\u001b[0mdelete\u001b[0m\u001b[0;34m(\u001b[0m\u001b[0mphi\u001b[0m\u001b[0;34m,\u001b[0m \u001b[0;36m0\u001b[0m\u001b[0;34m,\u001b[0m \u001b[0;36m1\u001b[0m\u001b[0;34m)\u001b[0m\u001b[0;34m\u001b[0m\u001b[0;34m\u001b[0m\u001b[0m\n",
      "\u001b[0;32m/anaconda3/lib/python3.7/site-packages/numpy/lib/index_tricks.py\u001b[0m in \u001b[0;36m__getitem__\u001b[0;34m(self, key)\u001b[0m\n\u001b[1;32m    333\u001b[0m                 \u001b[0mobjs\u001b[0m\u001b[0;34m[\u001b[0m\u001b[0mk\u001b[0m\u001b[0;34m]\u001b[0m \u001b[0;34m=\u001b[0m \u001b[0mobjs\u001b[0m\u001b[0;34m[\u001b[0m\u001b[0mk\u001b[0m\u001b[0;34m]\u001b[0m\u001b[0;34m.\u001b[0m\u001b[0mastype\u001b[0m\u001b[0;34m(\u001b[0m\u001b[0mfinal_dtype\u001b[0m\u001b[0;34m)\u001b[0m\u001b[0;34m\u001b[0m\u001b[0;34m\u001b[0m\u001b[0m\n\u001b[1;32m    334\u001b[0m \u001b[0;34m\u001b[0m\u001b[0m\n\u001b[0;32m--> 335\u001b[0;31m         \u001b[0mres\u001b[0m \u001b[0;34m=\u001b[0m \u001b[0mself\u001b[0m\u001b[0;34m.\u001b[0m\u001b[0mconcatenate\u001b[0m\u001b[0;34m(\u001b[0m\u001b[0mtuple\u001b[0m\u001b[0;34m(\u001b[0m\u001b[0mobjs\u001b[0m\u001b[0;34m)\u001b[0m\u001b[0;34m,\u001b[0m \u001b[0maxis\u001b[0m\u001b[0;34m=\u001b[0m\u001b[0maxis\u001b[0m\u001b[0;34m)\u001b[0m\u001b[0;34m\u001b[0m\u001b[0;34m\u001b[0m\u001b[0m\n\u001b[0m\u001b[1;32m    336\u001b[0m \u001b[0;34m\u001b[0m\u001b[0m\n\u001b[1;32m    337\u001b[0m         \u001b[0;32mif\u001b[0m \u001b[0mmatrix\u001b[0m\u001b[0;34m:\u001b[0m\u001b[0;34m\u001b[0m\u001b[0;34m\u001b[0m\u001b[0m\n",
      "\u001b[0;31mKeyboardInterrupt\u001b[0m: "
     ]
    }
   ],
   "source": [
    "\n",
    "y_pred = []\n",
    "ids = []\n",
    "\n",
    "lambdas = [1e-2,1e-8,1e-12,10**-(8.5)]\n",
    "degrees = [9,10,9,10]\n",
    "\n",
    "for i in range(4):\n",
    "    \n",
    "    tx_train = build_poly(x_jets_train[i],degrees[i])\n",
    "    tx_test = build_poly(x_jets_test[i],degrees[i])\n",
    "    \n",
    "    weights, loss = ridge_regression(y_jets_train[i],tx_train,lambdas[i])\n",
    "    ids.extend(jet_ids_test[i])\n",
    "    y_pred.extend(predict_labels(weights, tx_test))\n",
    "\n",
    "create_csv_submission(ids,y_pred,'TestResults3.csv')"
   ]
  },
  {
   "cell_type": "code",
   "execution_count": null,
   "metadata": {},
   "outputs": [],
   "source": []
  }
 ],
 "metadata": {
  "kernelspec": {
   "display_name": "Python 3",
   "language": "python",
   "name": "python3"
  },
  "language_info": {
   "codemirror_mode": {
    "name": "ipython",
    "version": 3
   },
   "file_extension": ".py",
   "mimetype": "text/x-python",
   "name": "python",
   "nbconvert_exporter": "python",
   "pygments_lexer": "ipython3",
   "version": "3.7.3"
  }
 },
 "nbformat": 4,
 "nbformat_minor": 2
}
